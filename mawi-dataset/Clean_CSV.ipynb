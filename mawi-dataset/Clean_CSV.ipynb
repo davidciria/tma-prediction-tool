{
 "cells": [
  {
   "cell_type": "code",
   "execution_count": 73,
   "id": "92be0d8c",
   "metadata": {},
   "outputs": [],
   "source": [
    "import csv\n",
    "import pandas as pd\n",
    "\n",
    "output = open('edit.csv', 'w')\n",
    "writer = csv.writer(output)\n",
    "\n",
    "with open('20190105_dataset.csv') as csv_file:\n",
    "    csv_reader = csv.reader(csv_file, delimiter=',')\n",
    "    line_count = 0\n",
    "    for row in csv_reader:\n",
    "        if ((row[1] == \"TCP\") or (row[1] == \"Protocol\")):\n",
    "            writer.writerow(row)\n",
    "            \n",
    "csv_file.close()\n",
    "output.close()\n",
    "\n",
    "df = pd.read_csv('edit.csv')\n",
    "df.to_csv('edit.csv', index=False)"
   ]
  },
  {
   "cell_type": "code",
   "execution_count": 76,
   "id": "2901e1f6",
   "metadata": {},
   "outputs": [],
   "source": [
    "file = open(\"edit.csv\", 'r+')\n",
    "file_name_mod = \"20190105_clean.csv\"\n",
    "mod_file = open(file_name_mod, 'w')\n",
    "\n",
    "for line in file: \n",
    "    del_n = line.replace(\"TCP,\",\"\")\n",
    "    mod_file.write(del_n)\n",
    "    \n",
    "file.close()\n",
    "mod_file.close()"
   ]
  }
 ],
 "metadata": {
  "kernelspec": {
   "display_name": "Python 3.10.6 64-bit",
   "language": "python",
   "name": "python3"
  },
  "language_info": {
   "codemirror_mode": {
    "name": "ipython",
    "version": 3
   },
   "file_extension": ".py",
   "mimetype": "text/x-python",
   "name": "python",
   "nbconvert_exporter": "python",
   "pygments_lexer": "ipython3",
   "version": "3.10.6"
  },
  "vscode": {
   "interpreter": {
    "hash": "b629c3126b5df0b3c19ac5f524890cb3a3a2e86c1a2f2c4b1c29287aa73e65d0"
   }
  }
 },
 "nbformat": 4,
 "nbformat_minor": 5
}
